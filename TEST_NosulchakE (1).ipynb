{
 "cells": [
  {
   "cell_type": "code",
   "execution_count": 23,
   "id": "93094625",
   "metadata": {},
   "outputs": [
    {
     "name": "stdout",
     "output_type": "stream",
     "text": [
      "   student_id  after_score\n",
      "0           1           92\n",
      "1           2           79\n",
      "2           3           92\n",
      "3           4           90\n",
      "4           5           98\n"
     ]
    }
   ],
   "source": [
    "import pandas as pd\n",
    "import matplotlib.pyplot as plt\n",
    "import seaborn as sns\n",
    "#df1 = pd.read_csv ('student_after_score.csv')\n",
    "df1 = pd.read_csv ('/Users/Elena/Desktop/ANACONDA/test/student_after_score.csv')\n",
    "print(df1.head(5))"
   ]
  },
  {
   "cell_type": "code",
   "execution_count": 3,
   "id": "f59ac3d3",
   "metadata": {
    "scrolled": true
   },
   "outputs": [
    {
     "name": "stdout",
     "output_type": "stream",
     "text": [
      "   student_id  before_score\n",
      "0           1            75\n",
      "1           2            81\n",
      "2           3            58\n",
      "3           4            47\n",
      "4           5            76\n"
     ]
    }
   ],
   "source": [
    "df2 = pd.read_csv ('/Users/Elena/Desktop/ANACONDA/test/student_before_score.csv')\n",
    "print(df2.head(5))"
   ]
  },
  {
   "cell_type": "code",
   "execution_count": 4,
   "id": "3fa37b1b",
   "metadata": {},
   "outputs": [
    {
     "name": "stdout",
     "output_type": "stream",
     "text": [
      "   student_id      group\n",
      "0           1  no_course\n",
      "1           2     course\n",
      "2           3     course\n",
      "3           4     course\n",
      "4           5     course\n"
     ]
    }
   ],
   "source": [
    "df3 = pd.read_csv ('/Users/Elena/Desktop/ANACONDA/test/student_group.csv')\n",
    "print(df3.head())"
   ]
  },
  {
   "cell_type": "markdown",
   "id": "f5b8a6d0",
   "metadata": {},
   "source": [
    "#### Определим количество студентов прошедших обучение и не обучавшихся"
   ]
  },
  {
   "cell_type": "code",
   "execution_count": 5,
   "id": "5fd72945",
   "metadata": {},
   "outputs": [
    {
     "name": "stdout",
     "output_type": "stream",
     "text": [
      "Количество студентов не прошедших обучение: 512\n",
      "Количество студентов прошедших обучение: 488\n"
     ]
    }
   ],
   "source": [
    "no_course = df3[df3['group'] == 'no_course']\n",
    "cnt_no_course = len(no_course)\n",
    "course = df3[df3['group'] == 'course']\n",
    "cnt_course = len(course)\n",
    "print('Количество студентов не прошедших обучение:', cnt_no_course)\n",
    "print('Количество студентов прошедших обучение:', cnt_course)"
   ]
  },
  {
   "cell_type": "markdown",
   "id": "f3b35a9d",
   "metadata": {},
   "source": [
    "#### для дальнейшей работы объединим датафреймы"
   ]
  },
  {
   "cell_type": "code",
   "execution_count": 6,
   "id": "cf625a25",
   "metadata": {},
   "outputs": [
    {
     "name": "stdout",
     "output_type": "stream",
     "text": [
      "     student_id  after_score  student_id_right  before_score\n",
      "0             1           92                 1            75\n",
      "1             2           79                 2            81\n",
      "2             3           92                 3            58\n",
      "3             4           90                 4            47\n",
      "4             5           98                 5            76\n",
      "..          ...          ...               ...           ...\n",
      "995         996           92               996            48\n",
      "996         997           93               997            55\n",
      "997         998           84               998            47\n",
      "998         999           74               999            64\n",
      "999        1000           74              1000            59\n",
      "\n",
      "[1000 rows x 4 columns]\n"
     ]
    }
   ],
   "source": [
    "data = df1.join(df2, rsuffix='_right')\n",
    "print(data)\n",
    "    # df_join_no_duplicates = df1.set_index('user_id').join(df2.set_index('user_id')) \n",
    "     \n",
    "     #print(df_join_no_duplicates) \n"
   ]
  },
  {
   "cell_type": "code",
   "execution_count": 7,
   "id": "acd96213",
   "metadata": {},
   "outputs": [
    {
     "name": "stdout",
     "output_type": "stream",
     "text": [
      "     student_id  after_score  student_id_right  before_score  \\\n",
      "0             1           92                 1            75   \n",
      "1             2           79                 2            81   \n",
      "2             3           92                 3            58   \n",
      "3             4           90                 4            47   \n",
      "4             5           98                 5            76   \n",
      "..          ...          ...               ...           ...   \n",
      "995         996           92               996            48   \n",
      "996         997           93               997            55   \n",
      "997         998           84               998            47   \n",
      "998         999           74               999            64   \n",
      "999        1000           74              1000            59   \n",
      "\n",
      "     student_id_right      group  \n",
      "0                   1  no_course  \n",
      "1                   2     course  \n",
      "2                   3     course  \n",
      "3                   4     course  \n",
      "4                   5     course  \n",
      "..                ...        ...  \n",
      "995               996  no_course  \n",
      "996               997  no_course  \n",
      "997               998  no_course  \n",
      "998               999  no_course  \n",
      "999              1000     course  \n",
      "\n",
      "[1000 rows x 6 columns]\n"
     ]
    }
   ],
   "source": [
    "data_fin = data.join(df3, rsuffix='_right')\n",
    "print(data_fin)"
   ]
  },
  {
   "cell_type": "markdown",
   "id": "ad778271",
   "metadata": {},
   "source": [
    "#### Посмотрим основную информацию о датафрейме с помощью метода info()"
   ]
  },
  {
   "cell_type": "code",
   "execution_count": 8,
   "id": "d43de722",
   "metadata": {},
   "outputs": [
    {
     "name": "stdout",
     "output_type": "stream",
     "text": [
      "<class 'pandas.core.frame.DataFrame'>\n",
      "RangeIndex: 1000 entries, 0 to 999\n",
      "Data columns (total 6 columns):\n",
      " #   Column            Non-Null Count  Dtype \n",
      "---  ------            --------------  ----- \n",
      " 0   student_id        1000 non-null   int64 \n",
      " 1   after_score       1000 non-null   int64 \n",
      " 2   student_id_right  1000 non-null   int64 \n",
      " 3   before_score      1000 non-null   int64 \n",
      " 4   student_id_right  1000 non-null   int64 \n",
      " 5   group             1000 non-null   object\n",
      "dtypes: int64(5), object(1)\n",
      "memory usage: 47.0+ KB\n"
     ]
    }
   ],
   "source": [
    "data_fin.info()"
   ]
  },
  {
   "cell_type": "markdown",
   "id": "6a477860",
   "metadata": {},
   "source": [
    "#### Выведем количество пропущенных значений"
   ]
  },
  {
   "cell_type": "code",
   "execution_count": 9,
   "id": "682d1285",
   "metadata": {},
   "outputs": [
    {
     "data": {
      "text/plain": [
       "student_id          0\n",
       "after_score         0\n",
       "student_id_right    0\n",
       "before_score        0\n",
       "student_id_right    0\n",
       "group               0\n",
       "dtype: int64"
      ]
     },
     "execution_count": 9,
     "metadata": {},
     "output_type": "execute_result"
    }
   ],
   "source": [
    "data_fin.isna().sum()"
   ]
  },
  {
   "cell_type": "markdown",
   "id": "26ae2c05",
   "metadata": {},
   "source": [
    "#### Проверим количество дубликатов"
   ]
  },
  {
   "cell_type": "code",
   "execution_count": 10,
   "id": "21e7091b",
   "metadata": {},
   "outputs": [
    {
     "data": {
      "text/plain": [
       "0"
      ]
     },
     "execution_count": 10,
     "metadata": {},
     "output_type": "execute_result"
    }
   ],
   "source": [
    "data_fin.duplicated().sum()"
   ]
  },
  {
   "cell_type": "markdown",
   "id": "19206ea8",
   "metadata": {},
   "source": [
    "#### Прежде всего посмотрим  нюансы распределения в числах: \n",
    "среднее, медиану, количество наблюдений в выборке и разброс их значений. Такие характеристики, дающие представление о выборке, входят в числовое описание данных. В Python его получают методом describe() (пер. «описать, охарактеризовать»). Результат работы метода — список характерных значений:"
   ]
  },
  {
   "cell_type": "code",
   "execution_count": 11,
   "id": "a507b8c2",
   "metadata": {},
   "outputs": [
    {
     "name": "stdout",
     "output_type": "stream",
     "text": [
      "        student_id  after_score  student_id_right  before_score  \\\n",
      "count  1000.000000  1000.000000       1000.000000    1000.00000   \n",
      "mean    500.500000    84.623000        500.500000      63.92500   \n",
      "std     288.819436     8.641154        288.819436      14.59851   \n",
      "min       1.000000    70.000000          1.000000      40.00000   \n",
      "25%     250.750000    77.000000        250.750000      51.00000   \n",
      "50%     500.500000    85.000000        500.500000      64.00000   \n",
      "75%     750.250000    92.000000        750.250000      77.00000   \n",
      "max    1000.000000    99.000000       1000.000000      89.00000   \n",
      "\n",
      "       student_id_right  \n",
      "count       1000.000000  \n",
      "mean         500.500000  \n",
      "std          288.819436  \n",
      "min            1.000000  \n",
      "25%          250.750000  \n",
      "50%          500.500000  \n",
      "75%          750.250000  \n",
      "max         1000.000000  \n"
     ]
    }
   ],
   "source": [
    "print(data_fin.describe())"
   ]
  },
  {
   "cell_type": "markdown",
   "id": "7807089a",
   "metadata": {},
   "source": [
    "#### На основе полученной информации проведем категоризацию данных.\n",
    "На основании диапазонов, указанных ниже, создадим в датафрейме data столбец category_before_score с категориями:\n",
    "\n",
    "0–25 — 'D';\n",
    "26–50 — 'C';\n",
    "51–75 — 'B';\n",
    "76–100 — 'A';\n"
   ]
  },
  {
   "cell_type": "code",
   "execution_count": 12,
   "id": "a8a4f485",
   "metadata": {},
   "outputs": [],
   "source": [
    "def category_before_score(i):\n",
    "    try:\n",
    "        if 0 <= i <= 25:\n",
    "            return 'D'\n",
    "        elif 26 <= i <= 50:\n",
    "            return 'C'\n",
    "        elif 51 <= i <= 75:\n",
    "            return 'B'\n",
    "        elif 76 <= i <= 100:\n",
    "            return 'A'\n",
    "    except:\n",
    "        pass"
   ]
  },
  {
   "cell_type": "markdown",
   "id": "ab18af85",
   "metadata": {},
   "source": [
    "На основании данных диапазонов, создадим в датафрейме data столбец category_after_score с теми же категориями\n"
   ]
  },
  {
   "cell_type": "code",
   "execution_count": 13,
   "id": "fdaf1d6f",
   "metadata": {},
   "outputs": [],
   "source": [
    "def category_after_score(i):\n",
    "    try:\n",
    "        if 0 <= i <= 25:\n",
    "            return 'D'\n",
    "        elif 26 <= i <= 50:\n",
    "            return 'C'\n",
    "        elif 51 <= i <= 75:\n",
    "            return 'B'\n",
    "        elif 76 <= i <= 100:\n",
    "            return 'A'\n",
    "    except:\n",
    "        pass"
   ]
  },
  {
   "cell_type": "code",
   "execution_count": 14,
   "id": "4bc6670f",
   "metadata": {},
   "outputs": [],
   "source": [
    "data_fin['category_before_score'] = data['before_score'].apply(category_before_score)"
   ]
  },
  {
   "cell_type": "code",
   "execution_count": 15,
   "id": "6ff0b59f",
   "metadata": {},
   "outputs": [],
   "source": [
    "data_fin['category_after_score'] = data['after_score'].apply(category_before_score)"
   ]
  },
  {
   "cell_type": "code",
   "execution_count": 16,
   "id": "6cf1fa97",
   "metadata": {},
   "outputs": [
    {
     "name": "stdout",
     "output_type": "stream",
     "text": [
      "   student_id  after_score  student_id_right  before_score  student_id_right  \\\n",
      "0           1           92                 1            75                 1   \n",
      "1           2           79                 2            81                 2   \n",
      "2           3           92                 3            58                 3   \n",
      "3           4           90                 4            47                 4   \n",
      "4           5           98                 5            76                 5   \n",
      "5           6           76                 6            67                 6   \n",
      "6           7           75                 7            69                 7   \n",
      "7           8           90                 8            88                 8   \n",
      "8           9           82                 9            53                 9   \n",
      "9          10           94                10            67                10   \n",
      "\n",
      "       group category_before_score category_after_score  \n",
      "0  no_course                     B                    A  \n",
      "1     course                     A                    A  \n",
      "2     course                     B                    A  \n",
      "3     course                     C                    A  \n",
      "4     course                     A                    A  \n",
      "5     course                     B                    A  \n",
      "6     course                     B                    B  \n",
      "7  no_course                     A                    A  \n",
      "8     course                     B                    A  \n",
      "9  no_course                     B                    A  \n"
     ]
    }
   ],
   "source": [
    "print(data_fin.head(10))"
   ]
  },
  {
   "cell_type": "markdown",
   "id": "f6ee50e4",
   "metadata": {},
   "source": [
    "#### Есть ли зависимость между уровнем оценки и прошедшим обучением?"
   ]
  },
  {
   "cell_type": "markdown",
   "id": "ddce8834",
   "metadata": {},
   "source": [
    "Определим категории оценок студентов до обучения и после прохождения обучения:"
   ]
  },
  {
   "cell_type": "code",
   "execution_count": 17,
   "id": "a53f1d5b",
   "metadata": {},
   "outputs": [
    {
     "name": "stdout",
     "output_type": "stream",
     "text": [
      "Категории оценок до проведенного обучения: B    493\n",
      "A    272\n",
      "C    235\n",
      "Name: category_before_score, dtype: int64\n"
     ]
    }
   ],
   "source": [
    "\n",
    "print('Категории оценок до проведенного обучения:', data_fin['category_before_score'].value_counts())"
   ]
  },
  {
   "cell_type": "code",
   "execution_count": 18,
   "id": "2e86726b",
   "metadata": {},
   "outputs": [
    {
     "name": "stdout",
     "output_type": "stream",
     "text": [
      "Категории оценок после проведенного обучения: A    799\n",
      "B    201\n",
      "Name: category_after_score, dtype: int64\n"
     ]
    }
   ],
   "source": [
    "print('Категории оценок после проведенного обучения:',data_fin['category_after_score'].value_counts())"
   ]
  },
  {
   "cell_type": "markdown",
   "id": "f35aaa99",
   "metadata": {},
   "source": [
    "### Посмотрим распределение оценок по категориям до проведения обучения и последующий результат"
   ]
  },
  {
   "cell_type": "code",
   "execution_count": 19,
   "id": "063dc3fa",
   "metadata": {},
   "outputs": [
    {
     "data": {
      "image/png": "[encoded data removed]",
      "text/plain": [
       "<Figure size 640x480 with 1 Axes>"
      ]
     },
     "metadata": {},
     "output_type": "display_data"
    }
   ],
   "source": [
    "\n",
    "boxplot = data_fin.boxplot(column=['before_score' ], by = ['category_before_score'])\n"
   ]
  },
  {
   "cell_type": "code",
   "execution_count": 20,
   "id": "1e445559",
   "metadata": {},
   "outputs": [
    {
     "data": {
      "image/png": "[encoded data removed]",
      "text/plain": [
       "<Figure size 640x480 with 1 Axes>"
      ]
     },
     "metadata": {},
     "output_type": "display_data"
    }
   ],
   "source": [
    "boxplot = data_fin.boxplot(column=['after_score' ], by = ['category_after_score'])"
   ]
  },
  {
   "cell_type": "code",
   "execution_count": 25,
   "id": "f427ebf5",
   "metadata": {},
   "outputs": [
    {
     "data": {
      "text/plain": [
       "<Axes: xlabel='category_after_score', ylabel='after_score'>"
      ]
     },
     "execution_count": 25,
     "metadata": {},
     "output_type": "execute_result"
    },
    {
     "data": {
      "image/png": "[encoded data removed]",
      "text/plain": [
       "<Figure size 640x480 with 1 Axes>"
      ]
     },
     "metadata": {},
     "output_type": "display_data"
    }
   ],
   "source": [
    "sns.boxplot(data = data_fin , x = 'category_after_score' , y = 'after_score' , hue = 'group')"
   ]
  },
  {
   "cell_type": "code",
   "execution_count": 40,
   "id": "c643ed3d",
   "metadata": {},
   "outputs": [
    {
     "data": {
      "application/vnd.plotly.v1+json": {
       "config": {
        "plotlyServerURL": "https://plot.ly"
       },
       "data": [
        {
         "alignmentgroup": "True",
         "hovertemplate": "category_after_score=%{x}<br>after_score=%{y}<extra></extra>",
         "legendgroup": "",
         "marker": {
          "color": "#636efa"
         },
         "name": "",
         "notched": false,
         "offsetgroup": "",
         "orientation": "v",
         "showlegend": false,
         "type": "box",
         "x": [
          "A",
          "A",
          "A",
          "A",
          "A",
          "A",
          "B",
          "A",
          "A",
          "A",
          "A",
          "A",
          "A",
          "A",
          "B",
          "A",
          "A",
          "A",
          "A",
          "A",
          "A",
          "B",
          "A",
          "A",
          "A",
          "A",
          "A",
          "A",
          "A",
          "A",
          "B",
          "A",
          "A",
          "A",
          "B",
          "A",
          "A",
          "A",
          "A",
          "A",
          "A",
          "A",
          "A",
          "A",
          "A",
          "A",
          "A",
          "A",
          "A",
          "A",
          "B",
          "B",
          "A",
          "A",
          "A",
          "A",
          "A",
          "A",
          "A",
          "A",
          "A",
          "A",
          "A",
          "A",
          "A",
          "A",
          "A",
          "A",
          "B",
          "A",
          "B",
          "B",
          "A",
          "A",
          "A",
          "A",
          "A",
          "B",
          "A",
          "A",
          "A",
          "A",
          "A",
          "A",
          "B",
          "A",
          "B",
          "A",
          "A",
          "A",
          "A",
          "B",
          "A",
          "A",
          "A",
          "A",
          "A",
          "A",
          "A",
          "A",
          "A",
          "A",
          "A",
          "B",
          "B",
          "A",
          "A",
          "A",
          "A",
          "A",
          "A",
          "A",
          "A",
          "A",
          "A",
          "A",
          "A",
          "A",
          "A",
          "A",
          "A",
          "A",
          "A",
          "A",
          "B",
          "A",
          "A",
          "B",
          "A",
          "A",
          "A",
          "A",
          "A",
          "A",
          "A",
          "A",
          "A",
          "B",
          "A",
          "A",
          "A",
          "A",
          "A",
          "B",
          "A",
          "A",
          "A",
          "A",
          "A",
          "B",
          "A",
          "B",
          "A",
          "B",
          "A",
          "A",
          "A",
          "A",
          "A",
          "A",
          "A",
          "A",
          "A",
          "A",
          "B",
          "A",
          "A",
          "A",
          "B",
          "A",
          "A",
          "B",
          "B",
          "A",
          "B",
          "A",
          "A",
          "A",
          "A",
          "A",
          "A",
          "A",
          "B",
          "B",
          "B",
          "A",
          "B",
          "A",
          "A",
          "A",
          "A",
          "A",
          "A",
          "A",
          "A",
          "A",
          "A",
          "A",
          "A",
          "A",
          "B",
          "A",
          "A",
          "A",
          "A",
          "A",
          "B",
          "A",
          "A",
          "B",
          "B",
          "A",
          "A",
          "B",
          "A",
          "B",
          "B",
          "A",
          "A",
          "B",
          "A",
          "A",
          "A",
          "A",
          "A",
          "B",
          "A",
          "B",
          "B",
          "A",
          "B",
          "A",
          "A",
          "A",
          "B",
          "A",
          "A",
          "A",
          "A",
          "A",
          "A",
          "A",
          "A",
          "B",
          "A",
          "A",
          "A",
          "A",
          "A",
          "A",
          "A",
          "A",
          "A",
          "A",
          "B",
          "A",
          "A",
          "A",
          "A",
          "A",
          "A",
          "A",
          "A",
          "A",
          "A",
          "B",
          "A",
          "A",
          "A",
          "A",
          "B",
          "A",
          "A",
          "B",
          "B",
          "A",
          "A",
          "B",
          "B",
          "A",
          "A",
          "A",
          "A",
          "A",
          "A",
          "A",
          "A",
          "A",
          "B",
          "A",
          "A",
          "A",
          "A",
          "A",
          "A",
          "A",
          "A",
          "B",
          "A",
          "A",
          "A",
          "A",
          "B",
          "B",
          "A",
          "A",
          "A",
          "B",
          "B",
          "A",
          "A",
          "A",
          "A",
          "A",
          "A",
          "A",
          "A",
          "B",
          "A",
          "A",
          "A",
          "A",
          "A",
          "A",
          "A",
          "B",
          "B",
          "A",
          "A",
          "A",
          "A",
          "B",
          "A",
          "A",
          "B",
          "B",
          "A",
          "A",
          "A",
          "A",
          "A",
          "A",
          "A",
          "A",
          "B",
          "B",
          "A",
          "A",
          "B",
          "A",
          "A",
          "A",
          "A",
          "A",
          "A",
          "A",
          "A",
          "B",
          "A",
          "A",
          "B",
          "A",
          "A",
          "B",
          "A",
          "B",
          "A",
          "A",
          "A",
          "A",
          "A",
          "A",
          "A",
          "A",
          "A",
          "A",
          "B",
          "B",
          "A",
          "A",
          "B",
          "A",
          "A",
          "A",
          "A",
          "A",
          "B",
          "A",
          "A",
          "A",
          "A",
          "B",
          "A",
          "A",
          "A",
          "A",
          "A",
          "A",
          "A",
          "A",
          "A",
          "A",
          "A",
          "B",
          "A",
          "B",
          "A",
          "A",
          "A",
          "A",
          "A",
          "A",
          "B",
          "A",
          "A",
          "A",
          "A",
          "A",
          "A",
          "A",
          "A",
          "A",
          "A",
          "B",
          "A",
          "A",
          "A",
          "A",
          "A",
          "A",
          "A",
          "A",
          "A",
          "A",
          "B",
          "A",
          "A",
          "A",
          "A",
          "A",
          "A",
          "A",
          "A",
          "B",
          "A",
          "A",
          "A",
          "A",
          "A",
          "A",
          "A",
          "A",
          "A",
          "A",
          "A",
          "B",
          "A",
          "A",
          "A",
          "A",
          "B",
          "B",
          "A",
          "A",
          "A",
          "A",
          "A",
          "A",
          "A",
          "A",
          "A",
          "A",
          "A",
          "A",
          "A",
          "A",
          "A",
          "A",
          "A",
          "A",
          "A",
          "A",
          "A",
          "B",
          "A",
          "A",
          "A",
          "A",
          "A",
          "B",
          "A",
          "A",
          "A",
          "A",
          "A",
          "A",
          "B",
          "B",
          "A",
          "A",
          "B",
          "A",
          "A",
          "B",
          "A",
          "A",
          "B",
          "A",
          "B",
          "A",
          "A",
          "A",
          "A",
          "B",
          "B",
          "A",
          "B",
          "B",
          "A",
          "A",
          "A",
          "B",
          "A",
          "A",
          "A",
          "B",
          "A",
          "A",
          "A",
          "A",
          "A",
          "A",
          "A",
          "A",
          "A",
          "A",
          "A",
          "A",
          "A",
          "A",
          "A",
          "A",
          "A",
          "A",
          "A",
          "A",
          "A",
          "A",
          "B",
          "A",
          "A",
          "A",
          "B",
          "A",
          "B",
          "A",
          "B",
          "A",
          "A",
          "A",
          "B",
          "B",
          "A",
          "A",
          "A",
          "A",
          "A",
          "A",
          "A",
          "A",
          "B",
          "A",
          "A",
          "B",
          "B",
          "B",
          "A",
          "A",
          "A",
          "A",
          "A",
          "A",
          "A",
          "A",
          "A",
          "A",
          "A",
          "A",
          "A",
          "A",
          "A",
          "A",
          "A",
          "A",
          "A",
          "A",
          "A",
          "A",
          "B",
          "A",
          "A",
          "A",
          "A",
          "A",
          "A",
          "A",
          "A",
          "A",
          "A",
          "A",
          "A",
          "A",
          "A",
          "A",
          "A",
          "A",
          "A",
          "A",
          "A",
          "A",
          "A",
          "A",
          "B",
          "A",
          "A",
          "A",
          "A",
          "A",
          "A",
          "B",
          "A",
          "A",
          "B",
          "A",
          "B",
          "A",
          "A",
          "A",
          "A",
          "A",
          "A",
          "A",
          "A",
          "B",
          "A",
          "A",
          "B",
          "A",
          "B",
          "A",
          "A",
          "A",
          "A",
          "A",
          "B",
          "B",
          "A",
          "A",
          "A",
          "A",
          "A",
          "A",
          "A",
          "A",
          "A",
          "A",
          "A",
          "A",
          "B",
          "B",
          "A",
          "A",
          "A",
          "A",
          "A",
          "B",
          "A",
          "A",
          "A",
          "B",
          "B",
          "A",
          "B",
          "B",
          "A",
          "B",
          "B",
          "A",
          "A",
          "A",
          "A",
          "A",
          "B",
          "B",
          "A",
          "A",
          "A",
          "B",
          "B",
          "A",
          "A",
          "A",
          "B",
          "A",
          "A",
          "A",
          "A",
          "A",
          "A",
          "A",
          "A",
          "B",
          "A",
          "B",
          "B",
          "A",
          "A",
          "A",
          "B",
          "A",
          "A",
          "B",
          "A",
          "A",
          "A",
          "B",
          "A",
          "A",
          "A",
          "B",
          "A",
          "A",
          "A",
          "A",
          "A",
          "A",
          "A",
          "B",
          "A",
          "A",
          "A",
          "A",
          "A",
          "A",
          "A",
          "A",
          "A",
          "B",
          "B",
          "A",
          "A",
          "A",
          "A",
          "B",
          "B",
          "B",
          "B",
          "A",
          "A",
          "A",
          "A",
          "A",
          "A",
          "A",
          "A",
          "A",
          "A",
          "A",
          "A",
          "B",
          "A",
          "A",
          "A",
          "B",
          "A",
          "A",
          "B",
          "A",
          "A",
          "A",
          "A",
          "B",
          "B",
          "A",
          "A",
          "A",
          "A",
          "A",
          "B",
          "B",
          "A",
          "A",
          "A",
          "A",
          "A",
          "A",
          "B",
          "B",
          "B",
          "B",
          "B",
          "A",
          "A",
          "A",
          "A",
          "A",
          "B",
          "A",
          "A",
          "B",
          "A",
          "B",
          "A",
          "A",
          "A",
          "B",
          "A",
          "A",
          "B",
          "A",
          "A",
          "A",
          "A",
          "A",
          "B",
          "A",
          "B",
          "A",
          "A",
          "A",
          "A",
          "A",
          "B",
          "A",
          "A",
          "A",
          "A",
          "A",
          "A",
          "A",
          "A",
          "A",
          "B",
          "B",
          "B",
          "A",
          "A",
          "B",
          "A",
          "A",
          "A",
          "A",
          "A",
          "A",
          "A",
          "A",
          "A",
          "A",
          "B",
          "B",
          "A",
          "A",
          "A",
          "A",
          "A",
          "A",
          "A",
          "B",
          "A",
          "A",
          "A",
          "A",
          "A",
          "B",
          "A",
          "A",
          "A",
          "A",
          "A",
          "A",
          "A",
          "A",
          "A",
          "B",
          "B",
          "A",
          "A",
          "A",
          "A",
          "A",
          "A",
          "A",
          "A",
          "A",
          "A",
          "A",
          "A",
          "A",
          "A",
          "A",
          "A",
          "A",
          "A",
          "A",
          "A",
          "A",
          "A",
          "A",
          "A",
          "A",
          "B",
          "A",
          "B",
          "A",
          "A",
          "B",
          "A",
          "A",
          "A",
          "B",
          "A",
          "A",
          "A",
          "A",
          "A",
          "B",
          "A",
          "A",
          "A",
          "B",
          "A",
          "A",
          "B",
          "A",
          "A",
          "B",
          "A",
          "A",
          "B",
          "A",
          "A",
          "A",
          "A",
          "A",
          "B",
          "B",
          "A",
          "A",
          "B",
          "A",
          "A",
          "A",
          "B",
          "B",
          "A",
          "A",
          "B",
          "A",
          "A",
          "A",
          "B",
          "A",
          "A",
          "A",
          "A",
          "A",
          "A",
          "A",
          "B",
          "A",
          "A",
          "A",
          "A",
          "B",
          "A",
          "A",
          "A",
          "A",
          "A",
          "A",
          "A",
          "A",
          "B",
          "A",
          "A",
          "A",
          "A",
          "A",
          "B",
          "A",
          "A",
          "A",
          "A",
          "B",
          "A",
          "A",
          "A",
          "A",
          "B",
          "B"
         ],
         "x0": " ",
         "xaxis": "x",
         "y": [
          92,
          79,
          92,
          90,
          98,
          76,
          75,
          90,
          82,
          94,
          95,
          93,
          90,
          79,
          70,
          90,
          87,
          81,
          81,
          91,
          87,
          73,
          90,
          88,
          90,
          99,
          92,
          96,
          94,
          81,
          72,
          89,
          89,
          88,
          75,
          85,
          88,
          99,
          77,
          82,
          86,
          96,
          79,
          94,
          76,
          90,
          80,
          86,
          78,
          82,
          70,
          74,
          76,
          87,
          88,
          87,
          97,
          91,
          77,
          93,
          97,
          78,
          81,
          95,
          86,
          91,
          79,
          98,
          73,
          81,
          70,
          73,
          81,
          76,
          90,
          79,
          99,
          74,
          86,
          96,
          90,
          76,
          98,
          92,
          71,
          91,
          73,
          88,
          86,
          86,
          95,
          75,
          98,
          78,
          91,
          84,
          88,
          90,
          90,
          79,
          99,
          84,
          97,
          74,
          75,
          91,
          80,
          89,
          93,
          81,
          94,
          92,
          92,
          96,
          97,
          76,
          92,
          80,
          81,
          84,
          77,
          81,
          90,
          76,
          75,
          97,
          92,
          75,
          93,
          87,
          90,
          81,
          84,
          80,
          92,
          92,
          92,
          73,
          96,
          88,
          82,
          81,
          79,
          71,
          99,
          99,
          77,
          94,
          89,
          72,
          80,
          72,
          82,
          73,
          94,
          90,
          97,
          85,
          86,
          97,
          84,
          87,
          79,
          80,
          70,
          89,
          96,
          78,
          71,
          81,
          95,
          73,
          70,
          83,
          75,
          94,
          95,
          90,
          89,
          91,
          95,
          91,
          75,
          75,
          72,
          89,
          75,
          95,
          83,
          85,
          97,
          78,
          83,
          89,
          98,
          89,
          97,
          86,
          76,
          76,
          75,
          78,
          86,
          76,
          78,
          81,
          74,
          94,
          99,
          71,
          70,
          79,
          84,
          74,
          80,
          72,
          74,
          84,
          83,
          74,
          76,
          98,
          89,
          83,
          82,
          74,
          86,
          75,
          73,
          78,
          70,
          90,
          76,
          92,
          71,
          97,
          92,
          81,
          89,
          84,
          91,
          90,
          76,
          75,
          80,
          79,
          90,
          89,
          94,
          93,
          88,
          80,
          98,
          85,
          73,
          95,
          91,
          77,
          87,
          86,
          78,
          99,
          82,
          95,
          78,
          71,
          85,
          99,
          91,
          88,
          72,
          99,
          94,
          74,
          74,
          81,
          89,
          74,
          74,
          97,
          81,
          99,
          79,
          99,
          89,
          93,
          96,
          90,
          74,
          85,
          80,
          98,
          88,
          95,
          99,
          80,
          84,
          74,
          99,
          92,
          85,
          89,
          71,
          70,
          94,
          86,
          78,
          71,
          70,
          91,
          84,
          95,
          91,
          87,
          99,
          80,
          80,
          75,
          88,
          96,
          86,
          92,
          78,
          80,
          88,
          74,
          73,
          84,
          89,
          79,
          90,
          73,
          93,
          89,
          70,
          73,
          98,
          77,
          94,
          97,
          91,
          78,
          80,
          91,
          72,
          75,
          91,
          88,
          74,
          92,
          79,
          90,
          86,
          76,
          90,
          76,
          84,
          70,
          78,
          95,
          73,
          88,
          82,
          74,
          90,
          74,
          94,
          84,
          91,
          86,
          96,
          84,
          86,
          88,
          89,
          99,
          71,
          74,
          98,
          90,
          73,
          98,
          92,
          78,
          80,
          84,
          73,
          85,
          86,
          76,
          86,
          73,
          80,
          90,
          98,
          99,
          82,
          77,
          99,
          90,
          86,
          86,
          86,
          74,
          76,
          73,
          88,
          85,
          80,
          87,
          77,
          81,
          72,
          80,
          92,
          91,
          79,
          99,
          76,
          84,
          83,
          95,
          77,
          70,
          77,
          84,
          76,
          87,
          92,
          98,
          97,
          92,
          98,
          89,
          71,
          85,
          92,
          86,
          79,
          77,
          90,
          98,
          80,
          70,
          87,
          96,
          87,
          85,
          78,
          77,
          81,
          84,
          86,
          91,
          86,
          75,
          81,
          98,
          97,
          80,
          72,
          72,
          98,
          98,
          88,
          80,
          95,
          89,
          90,
          89,
          83,
          81,
          78,
          84,
          92,
          86,
          87,
          83,
          86,
          92,
          97,
          79,
          97,
          75,
          95,
          89,
          95,
          93,
          88,
          71,
          97,
          81,
          87,
          99,
          90,
          93,
          73,
          73,
          82,
          91,
          73,
          92,
          98,
          73,
          99,
          78,
          71,
          95,
          72,
          78,
          89,
          76,
          85,
          74,
          75,
          99,
          70,
          75,
          93,
          87,
          81,
          72,
          88,
          79,
          94,
          75,
          95,
          85,
          86,
          96,
          82,
          76,
          93,
          83,
          77,
          99,
          77,
          93,
          76,
          92,
          89,
          99,
          91,
          90,
          88,
          96,
          89,
          90,
          71,
          87,
          88,
          80,
          72,
          78,
          74,
          82,
          74,
          95,
          87,
          87,
          73,
          71,
          76,
          97,
          88,
          88,
          76,
          79,
          76,
          92,
          74,
          80,
          90,
          72,
          73,
          71,
          79,
          77,
          89,
          82,
          85,
          86,
          94,
          79,
          89,
          97,
          90,
          96,
          84,
          77,
          76,
          81,
          89,
          98,
          84,
          99,
          78,
          95,
          71,
          97,
          98,
          94,
          89,
          94,
          84,
          94,
          99,
          76,
          97,
          77,
          82,
          93,
          86,
          99,
          98,
          77,
          76,
          77,
          95,
          83,
          99,
          91,
          70,
          77,
          76,
          92,
          96,
          83,
          87,
          71,
          91,
          90,
          73,
          92,
          74,
          96,
          93,
          89,
          86,
          93,
          82,
          84,
          85,
          72,
          88,
          94,
          75,
          92,
          72,
          84,
          92,
          95,
          92,
          97,
          73,
          74,
          87,
          81,
          91,
          89,
          92,
          78,
          77,
          79,
          89,
          87,
          84,
          99,
          72,
          71,
          98,
          77,
          93,
          90,
          84,
          75,
          87,
          78,
          89,
          73,
          70,
          86,
          73,
          71,
          86,
          74,
          70,
          82,
          91,
          78,
          85,
          80,
          74,
          72,
          86,
          99,
          99,
          74,
          75,
          94,
          90,
          88,
          73,
          79,
          87,
          81,
          80,
          78,
          88,
          95,
          80,
          75,
          88,
          71,
          75,
          99,
          87,
          83,
          72,
          87,
          84,
          71,
          94,
          81,
          80,
          70,
          85,
          96,
          84,
          72,
          85,
          77,
          85,
          82,
          98,
          77,
          91,
          75,
          86,
          85,
          90,
          80,
          89,
          89,
          95,
          84,
          79,
          71,
          75,
          99,
          94,
          79,
          97,
          75,
          71,
          75,
          74,
          86,
          89,
          99,
          86,
          78,
          81,
          94,
          91,
          97,
          87,
          97,
          89,
          71,
          84,
          80,
          82,
          70,
          96,
          92,
          71,
          76,
          81,
          84,
          84,
          73,
          74,
          85,
          76,
          78,
          87,
          77,
          71,
          71,
          91,
          94,
          86,
          79,
          87,
          98,
          70,
          72,
          74,
          74,
          71,
          96,
          81,
          90,
          82,
          93,
          74,
          83,
          76,
          73,
          94,
          71,
          95,
          87,
          95,
          73,
          80,
          79,
          73,
          84,
          95,
          82,
          83,
          78,
          73,
          80,
          70,
          85,
          93,
          90,
          77,
          91,
          75,
          89,
          82,
          91,
          79,
          79,
          95,
          77,
          90,
          80,
          72,
          71,
          75,
          99,
          99,
          73,
          97,
          84,
          98,
          93,
          92,
          80,
          95,
          89,
          95,
          95,
          73,
          72,
          97,
          86,
          80,
          97,
          87,
          84,
          81,
          71,
          89,
          87,
          93,
          84,
          79,
          71,
          80,
          82,
          80,
          76,
          92,
          93,
          98,
          81,
          84,
          72,
          74,
          94,
          92,
          86,
          99,
          95,
          84,
          82,
          83,
          87,
          82,
          94,
          99,
          88,
          96,
          98,
          96,
          87,
          97,
          89,
          89,
          94,
          90,
          76,
          77,
          83,
          70,
          83,
          70,
          86,
          99,
          73,
          91,
          88,
          94,
          72,
          85,
          97,
          99,
          77,
          78,
          74,
          92,
          78,
          94,
          70,
          86,
          98,
          70,
          94,
          98,
          72,
          77,
          93,
          70,
          87,
          92,
          99,
          89,
          86,
          73,
          73,
          81,
          90,
          73,
          81,
          93,
          83,
          71,
          70,
          77,
          87,
          74,
          94,
          91,
          88,
          71,
          84,
          77,
          86,
          96,
          99,
          85,
          79,
          74,
          87,
          76,
          85,
          99,
          73,
          89,
          97,
          88,
          97,
          99,
          88,
          84,
          91,
          70,
          97,
          97,
          81,
          94,
          86,
          73,
          77,
          95,
          92,
          95,
          74,
          84,
          92,
          93,
          84,
          74,
          74
         ],
         "y0": " ",
         "yaxis": "y"
        }
       ],
       "layout": {
        "boxmode": "group",
        "legend": {
         "tracegroupgap": 0
        },
        "margin": {
         "t": 60
        },
        "template": {
         "data": {
          "bar": [
           {
            "error_x": {
             "color": "#2a3f5f"
            },
            "error_y": {
             "color": "#2a3f5f"
            },
            "marker": {
             "line": {
              "color": "#E5ECF6",
              "width": 0.5
             },
             "pattern": {
              "fillmode": "overlay",
              "size": 10,
              "solidity": 0.2
             }
            },
            "type": "bar"
           }
          ],
          "barpolar": [
           {
            "marker": {
             "line": {
              "color": "#E5ECF6",
              "width": 0.5
             },
             "pattern": {
              "fillmode": "overlay",
              "size": 10,
              "solidity": 0.2
             }
            },
            "type": "barpolar"
           }
          ],
          "carpet": [
           {
            "aaxis": {
             "endlinecolor": "#2a3f5f",
             "gridcolor": "white",
             "linecolor": "white",
             "minorgridcolor": "white",
             "startlinecolor": "#2a3f5f"
            },
            "baxis": {
             "endlinecolor": "#2a3f5f",
             "gridcolor": "white",
             "linecolor": "white",
             "minorgridcolor": "white",
             "startlinecolor": "#2a3f5f"
            },
            "type": "carpet"
           }
          ],
          "choropleth": [
           {
            "colorbar": {
             "outlinewidth": 0,
             "ticks": ""
            },
            "type": "choropleth"
           }
          ],
          "contour": [
           {
            "colorbar": {
             "outlinewidth": 0,
             "ticks": ""
            },
            "colorscale": [
             [
              0,
              "#0d0887"
             ],
             [
              0.1111111111111111,
              "#46039f"
             ],
             [
              0.2222222222222222,
              "#7201a8"
             ],
             [
              0.3333333333333333,
              "#9c179e"
             ],
             [
              0.4444444444444444,
              "#bd3786"
             ],
             [
              0.5555555555555556,
              "#d8576b"
             ],
             [
              0.6666666666666666,
              "#ed7953"
             ],
             [
              0.7777777777777778,
              "#fb9f3a"
             ],
             [
              0.8888888888888888,
              "#fdca26"
             ],
             [
              1,
              "#f0f921"
             ]
            ],
            "type": "contour"
           }
          ],
          "contourcarpet": [
           {
            "colorbar": {
             "outlinewidth": 0,
             "ticks": ""
            },
            "type": "contourcarpet"
           }
          ],
          "heatmap": [
           {
            "colorbar": {
             "outlinewidth": 0,
             "ticks": ""
            },
            "colorscale": [
             [
              0,
              "#0d0887"
             ],
             [
              0.1111111111111111,
              "#46039f"
             ],
             [
              0.2222222222222222,
              "#7201a8"
             ],
             [
              0.3333333333333333,
              "#9c179e"
             ],
             [
              0.4444444444444444,
              "#bd3786"
             ],
             [
              0.5555555555555556,
              "#d8576b"
             ],
             [
              0.6666666666666666,
              "#ed7953"
             ],
             [
              0.7777777777777778,
              "#fb9f3a"
             ],
             [
              0.8888888888888888,
              "#fdca26"
             ],
             [
              1,
              "#f0f921"
             ]
            ],
            "type": "heatmap"
           }
          ],
          "heatmapgl": [
           {
            "colorbar": {
             "outlinewidth": 0,
             "ticks": ""
            },
            "colorscale": [
             [
              0,
              "#0d0887"
             ],
             [
              0.1111111111111111,
              "#46039f"
             ],
             [
              0.2222222222222222,
              "#7201a8"
             ],
             [
              0.3333333333333333,
              "#9c179e"
             ],
             [
              0.4444444444444444,
              "#bd3786"
             ],
             [
              0.5555555555555556,
              "#d8576b"
             ],
             [
              0.6666666666666666,
              "#ed7953"
             ],
             [
              0.7777777777777778,
              "#fb9f3a"
             ],
             [
              0.8888888888888888,
              "#fdca26"
             ],
             [
              1,
              "#f0f921"
             ]
            ],
            "type": "heatmapgl"
           }
          ],
          "histogram": [
           {
            "marker": {
             "pattern": {
              "fillmode": "overlay",
              "size": 10,
              "solidity": 0.2
             }
            },
            "type": "histogram"
           }
          ],
          "histogram2d": [
           {
            "colorbar": {
             "outlinewidth": 0,
             "ticks": ""
            },
            "colorscale": [
             [
              0,
              "#0d0887"
             ],
             [
              0.1111111111111111,
              "#46039f"
             ],
             [
              0.2222222222222222,
              "#7201a8"
             ],
             [
              0.3333333333333333,
              "#9c179e"
             ],
             [
              0.4444444444444444,
              "#bd3786"
             ],
             [
              0.5555555555555556,
              "#d8576b"
             ],
             [
              0.6666666666666666,
              "#ed7953"
             ],
             [
              0.7777777777777778,
              "#fb9f3a"
             ],
             [
              0.8888888888888888,
              "#fdca26"
             ],
             [
              1,
              "#f0f921"
             ]
            ],
            "type": "histogram2d"
           }
          ],
          "histogram2dcontour": [
           {
            "colorbar": {
             "outlinewidth": 0,
             "ticks": ""
            },
            "colorscale": [
             [
              0,
              "#0d0887"
             ],
             [
              0.1111111111111111,
              "#46039f"
             ],
             [
              0.2222222222222222,
              "#7201a8"
             ],
             [
              0.3333333333333333,
              "#9c179e"
             ],
             [
              0.4444444444444444,
              "#bd3786"
             ],
             [
              0.5555555555555556,
              "#d8576b"
             ],
             [
              0.6666666666666666,
              "#ed7953"
             ],
             [
              0.7777777777777778,
              "#fb9f3a"
             ],
             [
              0.8888888888888888,
              "#fdca26"
             ],
             [
              1,
              "#f0f921"
             ]
            ],
            "type": "histogram2dcontour"
           }
          ],
          "mesh3d": [
           {
            "colorbar": {
             "outlinewidth": 0,
             "ticks": ""
            },
            "type": "mesh3d"
           }
          ],
          "parcoords": [
           {
            "line": {
             "colorbar": {
              "outlinewidth": 0,
              "ticks": ""
             }
            },
            "type": "parcoords"
           }
          ],
          "pie": [
           {
            "automargin": true,
            "type": "pie"
           }
          ],
          "scatter": [
           {
            "fillpattern": {
             "fillmode": "overlay",
             "size": 10,
             "solidity": 0.2
            },
            "type": "scatter"
           }
          ],
          "scatter3d": [
           {
            "line": {
             "colorbar": {
              "outlinewidth": 0,
              "ticks": ""
             }
            },
            "marker": {
             "colorbar": {
              "outlinewidth": 0,
              "ticks": ""
             }
            },
            "type": "scatter3d"
           }
          ],
          "scattercarpet": [
           {
            "marker": {
             "colorbar": {
              "outlinewidth": 0,
              "ticks": ""
             }
            },
            "type": "scattercarpet"
           }
          ],
          "scattergeo": [
           {
            "marker": {
             "colorbar": {
              "outlinewidth": 0,
              "ticks": ""
             }
            },
            "type": "scattergeo"
           }
          ],
          "scattergl": [
           {
            "marker": {
             "colorbar": {
              "outlinewidth": 0,
              "ticks": ""
             }
            },
            "type": "scattergl"
           }
          ],
          "scattermapbox": [
           {
            "marker": {
             "colorbar": {
              "outlinewidth": 0,
              "ticks": ""
             }
            },
            "type": "scattermapbox"
           }
          ],
          "scatterpolar": [
           {
            "marker": {
             "colorbar": {
              "outlinewidth": 0,
              "ticks": ""
             }
            },
            "type": "scatterpolar"
           }
          ],
          "scatterpolargl": [
           {
            "marker": {
             "colorbar": {
              "outlinewidth": 0,
              "ticks": ""
             }
            },
            "type": "scatterpolargl"
           }
          ],
          "scatterternary": [
           {
            "marker": {
             "colorbar": {
              "outlinewidth": 0,
              "ticks": ""
             }
            },
            "type": "scatterternary"
           }
          ],
          "surface": [
           {
            "colorbar": {
             "outlinewidth": 0,
             "ticks": ""
            },
            "colorscale": [
             [
              0,
              "#0d0887"
             ],
             [
              0.1111111111111111,
              "#46039f"
             ],
             [
              0.2222222222222222,
              "#7201a8"
             ],
             [
              0.3333333333333333,
              "#9c179e"
             ],
             [
              0.4444444444444444,
              "#bd3786"
             ],
             [
              0.5555555555555556,
              "#d8576b"
             ],
             [
              0.6666666666666666,
              "#ed7953"
             ],
             [
              0.7777777777777778,
              "#fb9f3a"
             ],
             [
              0.8888888888888888,
              "#fdca26"
             ],
             [
              1,
              "#f0f921"
             ]
            ],
            "type": "surface"
           }
          ],
          "table": [
           {
            "cells": {
             "fill": {
              "color": "#EBF0F8"
             },
             "line": {
              "color": "white"
             }
            },
            "header": {
             "fill": {
              "color": "#C8D4E3"
             },
             "line": {
              "color": "white"
             }
            },
            "type": "table"
           }
          ]
         },
         "layout": {
          "annotationdefaults": {
           "arrowcolor": "#2a3f5f",
           "arrowhead": 0,
           "arrowwidth": 1
          },
          "autotypenumbers": "strict",
          "coloraxis": {
           "colorbar": {
            "outlinewidth": 0,
            "ticks": ""
           }
          },
          "colorscale": {
           "diverging": [
            [
             0,
             "#8e0152"
            ],
            [
             0.1,
             "#c51b7d"
            ],
            [
             0.2,
             "#de77ae"
            ],
            [
             0.3,
             "#f1b6da"
            ],
            [
             0.4,
             "#fde0ef"
            ],
            [
             0.5,
             "#f7f7f7"
            ],
            [
             0.6,
             "#e6f5d0"
            ],
            [
             0.7,
             "#b8e186"
            ],
            [
             0.8,
             "#7fbc41"
            ],
            [
             0.9,
             "#4d9221"
            ],
            [
             1,
             "#276419"
            ]
           ],
           "sequential": [
            [
             0,
             "#0d0887"
            ],
            [
             0.1111111111111111,
             "#46039f"
            ],
            [
             0.2222222222222222,
             "#7201a8"
            ],
            [
             0.3333333333333333,
             "#9c179e"
            ],
            [
             0.4444444444444444,
             "#bd3786"
            ],
            [
             0.5555555555555556,
             "#d8576b"
            ],
            [
             0.6666666666666666,
             "#ed7953"
            ],
            [
             0.7777777777777778,
             "#fb9f3a"
            ],
            [
             0.8888888888888888,
             "#fdca26"
            ],
            [
             1,
             "#f0f921"
            ]
           ],
           "sequentialminus": [
            [
             0,
             "#0d0887"
            ],
            [
             0.1111111111111111,
             "#46039f"
            ],
            [
             0.2222222222222222,
             "#7201a8"
            ],
            [
             0.3333333333333333,
             "#9c179e"
            ],
            [
             0.4444444444444444,
             "#bd3786"
            ],
            [
             0.5555555555555556,
             "#d8576b"
            ],
            [
             0.6666666666666666,
             "#ed7953"
            ],
            [
             0.7777777777777778,
             "#fb9f3a"
            ],
            [
             0.8888888888888888,
             "#fdca26"
            ],
            [
             1,
             "#f0f921"
            ]
           ]
          },
          "colorway": [
           "#636efa",
           "#EF553B",
           "#00cc96",
           "#ab63fa",
           "#FFA15A",
           "#19d3f3",
           "#FF6692",
           "#B6E880",
           "#FF97FF",
           "#FECB52"
          ],
          "font": {
           "color": "#2a3f5f"
          },
          "geo": {
           "bgcolor": "white",
           "lakecolor": "white",
           "landcolor": "#E5ECF6",
           "showlakes": true,
           "showland": true,
           "subunitcolor": "white"
          },
          "hoverlabel": {
           "align": "left"
          },
          "hovermode": "closest",
          "mapbox": {
           "style": "light"
          },
          "paper_bgcolor": "white",
          "plot_bgcolor": "#E5ECF6",
          "polar": {
           "angularaxis": {
            "gridcolor": "white",
            "linecolor": "white",
            "ticks": ""
           },
           "bgcolor": "#E5ECF6",
           "radialaxis": {
            "gridcolor": "white",
            "linecolor": "white",
            "ticks": ""
           }
          },
          "scene": {
           "xaxis": {
            "backgroundcolor": "#E5ECF6",
            "gridcolor": "white",
            "gridwidth": 2,
            "linecolor": "white",
            "showbackground": true,
            "ticks": "",
            "zerolinecolor": "white"
           },
           "yaxis": {
            "backgroundcolor": "#E5ECF6",
            "gridcolor": "white",
            "gridwidth": 2,
            "linecolor": "white",
            "showbackground": true,
            "ticks": "",
            "zerolinecolor": "white"
           },
           "zaxis": {
            "backgroundcolor": "#E5ECF6",
            "gridcolor": "white",
            "gridwidth": 2,
            "linecolor": "white",
            "showbackground": true,
            "ticks": "",
            "zerolinecolor": "white"
           }
          },
          "shapedefaults": {
           "line": {
            "color": "#2a3f5f"
           }
          },
          "ternary": {
           "aaxis": {
            "gridcolor": "white",
            "linecolor": "white",
            "ticks": ""
           },
           "baxis": {
            "gridcolor": "white",
            "linecolor": "white",
            "ticks": ""
           },
           "bgcolor": "#E5ECF6",
           "caxis": {
            "gridcolor": "white",
            "linecolor": "white",
            "ticks": ""
           }
          },
          "title": {
           "x": 0.05
          },
          "xaxis": {
           "automargin": true,
           "gridcolor": "white",
           "linecolor": "white",
           "ticks": "",
           "title": {
            "standoff": 15
           },
           "zerolinecolor": "white",
           "zerolinewidth": 2
          },
          "yaxis": {
           "automargin": true,
           "gridcolor": "white",
           "linecolor": "white",
           "ticks": "",
           "title": {
            "standoff": 15
           },
           "zerolinecolor": "white",
           "zerolinewidth": 2
          }
         }
        },
        "xaxis": {
         "anchor": "y",
         "domain": [
          0,
          1
         ],
         "title": {
          "text": "category_after_score"
         }
        },
        "yaxis": {
         "anchor": "x",
         "domain": [
          0,
          1
         ],
         "title": {
          "text": "after_score"
         }
        }
       }
      },
      "text/html": [
       "<div>                            <div id=\"ab8c825c-c765-4545-a0ed-0fa5917933c9\" class=\"plotly-graph-div\" style=\"height:525px; width:100%;\"></div>            <script type=\"text/javascript\">                require([\"plotly\"], function(Plotly) {                    window.PLOTLYENV=window.PLOTLYENV || {};                                    if (document.getElementById(\"ab8c825c-c765-4545-a0ed-0fa5917933c9\")) {                    Plotly.newPlot(                        \"ab8c825c-c765-4545-a0ed-0fa5917933c9\",                        [{\"alignmentgroup\":\"True\",\"hovertemplate\":\"category_after_score=%{x}<br>after_score=%{y}<extra></extra>\",\"legendgroup\":\"\",\"marker\":{\"color\":\"#636efa\"},\"name\":\"\",\"notched\":false,\"offsetgroup\":\"\",\"orientation\":\"v\",\"showlegend\":false,\"x\":[\"A\",\"A\",\"A\",\"A\",\"A\",\"A\",\"B\",\"A\",\"A\",\"A\",\"A\",\"A\",\"A\",\"A\",\"B\",\"A\",\"A\",\"A\",\"A\",\"A\",\"A\",\"B\",\"A\",\"A\",\"A\",\"A\",\"A\",\"A\",\"A\",\"A\",\"B\",\"A\",\"A\",\"A\",\"B\",\"A\",\"A\",\"A\",\"A\",\"A\",\"A\",\"A\",\"A\",\"A\",\"A\",\"A\",\"A\",\"A\",\"A\",\"A\",\"B\",\"B\",\"A\",\"A\",\"A\",\"A\",\"A\",\"A\",\"A\",\"A\",\"A\",\"A\",\"A\",\"A\",\"A\",\"A\",\"A\",\"A\",\"B\",\"A\",\"B\",\"B\",\"A\",\"A\",\"A\",\"A\",\"A\",\"B\",\"A\",\"A\",\"A\",\"A\",\"A\",\"A\",\"B\",\"A\",\"B\",\"A\",\"A\",\"A\",\"A\",\"B\",\"A\",\"A\",\"A\",\"A\",\"A\",\"A\",\"A\",\"A\",\"A\",\"A\",\"A\",\"B\",\"B\",\"A\",\"A\",\"A\",\"A\",\"A\",\"A\",\"A\",\"A\",\"A\",\"A\",\"A\",\"A\",\"A\",\"A\",\"A\",\"A\",\"A\",\"A\",\"A\",\"B\",\"A\",\"A\",\"B\",\"A\",\"A\",\"A\",\"A\",\"A\",\"A\",\"A\",\"A\",\"A\",\"B\",\"A\",\"A\",\"A\",\"A\",\"A\",\"B\",\"A\",\"A\",\"A\",\"A\",\"A\",\"B\",\"A\",\"B\",\"A\",\"B\",\"A\",\"A\",\"A\",\"A\",\"A\",\"A\",\"A\",\"A\",\"A\",\"A\",\"B\",\"A\",\"A\",\"A\",\"B\",\"A\",\"A\",\"B\",\"B\",\"A\",\"B\",\"A\",\"A\",\"A\",\"A\",\"A\",\"A\",\"A\",\"B\",\"B\",\"B\",\"A\",\"B\",\"A\",\"A\",\"A\",\"A\",\"A\",\"A\",\"A\",\"A\",\"A\",\"A\",\"A\",\"A\",\"A\",\"B\",\"A\",\"A\",\"A\",\"A\",\"A\",\"B\",\"A\",\"A\",\"B\",\"B\",\"A\",\"A\",\"B\",\"A\",\"B\",\"B\",\"A\",\"A\",\"B\",\"A\",\"A\",\"A\",\"A\",\"A\",\"B\",\"A\",\"B\",\"B\",\"A\",\"B\",\"A\",\"A\",\"A\",\"B\",\"A\",\"A\",\"A\",\"A\",\"A\",\"A\",\"A\",\"A\",\"B\",\"A\",\"A\",\"A\",\"A\",\"A\",\"A\",\"A\",\"A\",\"A\",\"A\",\"B\",\"A\",\"A\",\"A\",\"A\",\"A\",\"A\",\"A\",\"A\",\"A\",\"A\",\"B\",\"A\",\"A\",\"A\",\"A\",\"B\",\"A\",\"A\",\"B\",\"B\",\"A\",\"A\",\"B\",\"B\",\"A\",\"A\",\"A\",\"A\",\"A\",\"A\",\"A\",\"A\",\"A\",\"B\",\"A\",\"A\",\"A\",\"A\",\"A\",\"A\",\"A\",\"A\",\"B\",\"A\",\"A\",\"A\",\"A\",\"B\",\"B\",\"A\",\"A\",\"A\",\"B\",\"B\",\"A\",\"A\",\"A\",\"A\",\"A\",\"A\",\"A\",\"A\",\"B\",\"A\",\"A\",\"A\",\"A\",\"A\",\"A\",\"A\",\"B\",\"B\",\"A\",\"A\",\"A\",\"A\",\"B\",\"A\",\"A\",\"B\",\"B\",\"A\",\"A\",\"A\",\"A\",\"A\",\"A\",\"A\",\"A\",\"B\",\"B\",\"A\",\"A\",\"B\",\"A\",\"A\",\"A\",\"A\",\"A\",\"A\",\"A\",\"A\",\"B\",\"A\",\"A\",\"B\",\"A\",\"A\",\"B\",\"A\",\"B\",\"A\",\"A\",\"A\",\"A\",\"A\",\"A\",\"A\",\"A\",\"A\",\"A\",\"B\",\"B\",\"A\",\"A\",\"B\",\"A\",\"A\",\"A\",\"A\",\"A\",\"B\",\"A\",\"A\",\"A\",\"A\",\"B\",\"A\",\"A\",\"A\",\"A\",\"A\",\"A\",\"A\",\"A\",\"A\",\"A\",\"A\",\"B\",\"A\",\"B\",\"A\",\"A\",\"A\",\"A\",\"A\",\"A\",\"B\",\"A\",\"A\",\"A\",\"A\",\"A\",\"A\",\"A\",\"A\",\"A\",\"A\",\"B\",\"A\",\"A\",\"A\",\"A\",\"A\",\"A\",\"A\",\"A\",\"A\",\"A\",\"B\",\"A\",\"A\",\"A\",\"A\",\"A\",\"A\",\"A\",\"A\",\"B\",\"A\",\"A\",\"A\",\"A\",\"A\",\"A\",\"A\",\"A\",\"A\",\"A\",\"A\",\"B\",\"A\",\"A\",\"A\",\"A\",\"B\",\"B\",\"A\",\"A\",\"A\",\"A\",\"A\",\"A\",\"A\",\"A\",\"A\",\"A\",\"A\",\"A\",\"A\",\"A\",\"A\",\"A\",\"A\",\"A\",\"A\",\"A\",\"A\",\"B\",\"A\",\"A\",\"A\",\"A\",\"A\",\"B\",\"A\",\"A\",\"A\",\"A\",\"A\",\"A\",\"B\",\"B\",\"A\",\"A\",\"B\",\"A\",\"A\",\"B\",\"A\",\"A\",\"B\",\"A\",\"B\",\"A\",\"A\",\"A\",\"A\",\"B\",\"B\",\"A\",\"B\",\"B\",\"A\",\"A\",\"A\",\"B\",\"A\",\"A\",\"A\",\"B\",\"A\",\"A\",\"A\",\"A\",\"A\",\"A\",\"A\",\"A\",\"A\",\"A\",\"A\",\"A\",\"A\",\"A\",\"A\",\"A\",\"A\",\"A\",\"A\",\"A\",\"A\",\"A\",\"B\",\"A\",\"A\",\"A\",\"B\",\"A\",\"B\",\"A\",\"B\",\"A\",\"A\",\"A\",\"B\",\"B\",\"A\",\"A\",\"A\",\"A\",\"A\",\"A\",\"A\",\"A\",\"B\",\"A\",\"A\",\"B\",\"B\",\"B\",\"A\",\"A\",\"A\",\"A\",\"A\",\"A\",\"A\",\"A\",\"A\",\"A\",\"A\",\"A\",\"A\",\"A\",\"A\",\"A\",\"A\",\"A\",\"A\",\"A\",\"A\",\"A\",\"B\",\"A\",\"A\",\"A\",\"A\",\"A\",\"A\",\"A\",\"A\",\"A\",\"A\",\"A\",\"A\",\"A\",\"A\",\"A\",\"A\",\"A\",\"A\",\"A\",\"A\",\"A\",\"A\",\"A\",\"B\",\"A\",\"A\",\"A\",\"A\",\"A\",\"A\",\"B\",\"A\",\"A\",\"B\",\"A\",\"B\",\"A\",\"A\",\"A\",\"A\",\"A\",\"A\",\"A\",\"A\",\"B\",\"A\",\"A\",\"B\",\"A\",\"B\",\"A\",\"A\",\"A\",\"A\",\"A\",\"B\",\"B\",\"A\",\"A\",\"A\",\"A\",\"A\",\"A\",\"A\",\"A\",\"A\",\"A\",\"A\",\"A\",\"B\",\"B\",\"A\",\"A\",\"A\",\"A\",\"A\",\"B\",\"A\",\"A\",\"A\",\"B\",\"B\",\"A\",\"B\",\"B\",\"A\",\"B\",\"B\",\"A\",\"A\",\"A\",\"A\",\"A\",\"B\",\"B\",\"A\",\"A\",\"A\",\"B\",\"B\",\"A\",\"A\",\"A\",\"B\",\"A\",\"A\",\"A\",\"A\",\"A\",\"A\",\"A\",\"A\",\"B\",\"A\",\"B\",\"B\",\"A\",\"A\",\"A\",\"B\",\"A\",\"A\",\"B\",\"A\",\"A\",\"A\",\"B\",\"A\",\"A\",\"A\",\"B\",\"A\",\"A\",\"A\",\"A\",\"A\",\"A\",\"A\",\"B\",\"A\",\"A\",\"A\",\"A\",\"A\",\"A\",\"A\",\"A\",\"A\",\"B\",\"B\",\"A\",\"A\",\"A\",\"A\",\"B\",\"B\",\"B\",\"B\",\"A\",\"A\",\"A\",\"A\",\"A\",\"A\",\"A\",\"A\",\"A\",\"A\",\"A\",\"A\",\"B\",\"A\",\"A\",\"A\",\"B\",\"A\",\"A\",\"B\",\"A\",\"A\",\"A\",\"A\",\"B\",\"B\",\"A\",\"A\",\"A\",\"A\",\"A\",\"B\",\"B\",\"A\",\"A\",\"A\",\"A\",\"A\",\"A\",\"B\",\"B\",\"B\",\"B\",\"B\",\"A\",\"A\",\"A\",\"A\",\"A\",\"B\",\"A\",\"A\",\"B\",\"A\",\"B\",\"A\",\"A\",\"A\",\"B\",\"A\",\"A\",\"B\",\"A\",\"A\",\"A\",\"A\",\"A\",\"B\",\"A\",\"B\",\"A\",\"A\",\"A\",\"A\",\"A\",\"B\",\"A\",\"A\",\"A\",\"A\",\"A\",\"A\",\"A\",\"A\",\"A\",\"B\",\"B\",\"B\",\"A\",\"A\",\"B\",\"A\",\"A\",\"A\",\"A\",\"A\",\"A\",\"A\",\"A\",\"A\",\"A\",\"B\",\"B\",\"A\",\"A\",\"A\",\"A\",\"A\",\"A\",\"A\",\"B\",\"A\",\"A\",\"A\",\"A\",\"A\",\"B\",\"A\",\"A\",\"A\",\"A\",\"A\",\"A\",\"A\",\"A\",\"A\",\"B\",\"B\",\"A\",\"A\",\"A\",\"A\",\"A\",\"A\",\"A\",\"A\",\"A\",\"A\",\"A\",\"A\",\"A\",\"A\",\"A\",\"A\",\"A\",\"A\",\"A\",\"A\",\"A\",\"A\",\"A\",\"A\",\"A\",\"B\",\"A\",\"B\",\"A\",\"A\",\"B\",\"A\",\"A\",\"A\",\"B\",\"A\",\"A\",\"A\",\"A\",\"A\",\"B\",\"A\",\"A\",\"A\",\"B\",\"A\",\"A\",\"B\",\"A\",\"A\",\"B\",\"A\",\"A\",\"B\",\"A\",\"A\",\"A\",\"A\",\"A\",\"B\",\"B\",\"A\",\"A\",\"B\",\"A\",\"A\",\"A\",\"B\",\"B\",\"A\",\"A\",\"B\",\"A\",\"A\",\"A\",\"B\",\"A\",\"A\",\"A\",\"A\",\"A\",\"A\",\"A\",\"B\",\"A\",\"A\",\"A\",\"A\",\"B\",\"A\",\"A\",\"A\",\"A\",\"A\",\"A\",\"A\",\"A\",\"B\",\"A\",\"A\",\"A\",\"A\",\"A\",\"B\",\"A\",\"A\",\"A\",\"A\",\"B\",\"A\",\"A\",\"A\",\"A\",\"B\",\"B\"],\"x0\":\" \",\"xaxis\":\"x\",\"y\":[92,79,92,90,98,76,75,90,82,94,95,93,90,79,70,90,87,81,81,91,87,73,90,88,90,99,92,96,94,81,72,89,89,88,75,85,88,99,77,82,86,96,79,94,76,90,80,86,78,82,70,74,76,87,88,87,97,91,77,93,97,78,81,95,86,91,79,98,73,81,70,73,81,76,90,79,99,74,86,96,90,76,98,92,71,91,73,88,86,86,95,75,98,78,91,84,88,90,90,79,99,84,97,74,75,91,80,89,93,81,94,92,92,96,97,76,92,80,81,84,77,81,90,76,75,97,92,75,93,87,90,81,84,80,92,92,92,73,96,88,82,81,79,71,99,99,77,94,89,72,80,72,82,73,94,90,97,85,86,97,84,87,79,80,70,89,96,78,71,81,95,73,70,83,75,94,95,90,89,91,95,91,75,75,72,89,75,95,83,85,97,78,83,89,98,89,97,86,76,76,75,78,86,76,78,81,74,94,99,71,70,79,84,74,80,72,74,84,83,74,76,98,89,83,82,74,86,75,73,78,70,90,76,92,71,97,92,81,89,84,91,90,76,75,80,79,90,89,94,93,88,80,98,85,73,95,91,77,87,86,78,99,82,95,78,71,85,99,91,88,72,99,94,74,74,81,89,74,74,97,81,99,79,99,89,93,96,90,74,85,80,98,88,95,99,80,84,74,99,92,85,89,71,70,94,86,78,71,70,91,84,95,91,87,99,80,80,75,88,96,86,92,78,80,88,74,73,84,89,79,90,73,93,89,70,73,98,77,94,97,91,78,80,91,72,75,91,88,74,92,79,90,86,76,90,76,84,70,78,95,73,88,82,74,90,74,94,84,91,86,96,84,86,88,89,99,71,74,98,90,73,98,92,78,80,84,73,85,86,76,86,73,80,90,98,99,82,77,99,90,86,86,86,74,76,73,88,85,80,87,77,81,72,80,92,91,79,99,76,84,83,95,77,70,77,84,76,87,92,98,97,92,98,89,71,85,92,86,79,77,90,98,80,70,87,96,87,85,78,77,81,84,86,91,86,75,81,98,97,80,72,72,98,98,88,80,95,89,90,89,83,81,78,84,92,86,87,83,86,92,97,79,97,75,95,89,95,93,88,71,97,81,87,99,90,93,73,73,82,91,73,92,98,73,99,78,71,95,72,78,89,76,85,74,75,99,70,75,93,87,81,72,88,79,94,75,95,85,86,96,82,76,93,83,77,99,77,93,76,92,89,99,91,90,88,96,89,90,71,87,88,80,72,78,74,82,74,95,87,87,73,71,76,97,88,88,76,79,76,92,74,80,90,72,73,71,79,77,89,82,85,86,94,79,89,97,90,96,84,77,76,81,89,98,84,99,78,95,71,97,98,94,89,94,84,94,99,76,97,77,82,93,86,99,98,77,76,77,95,83,99,91,70,77,76,92,96,83,87,71,91,90,73,92,74,96,93,89,86,93,82,84,85,72,88,94,75,92,72,84,92,95,92,97,73,74,87,81,91,89,92,78,77,79,89,87,84,99,72,71,98,77,93,90,84,75,87,78,89,73,70,86,73,71,86,74,70,82,91,78,85,80,74,72,86,99,99,74,75,94,90,88,73,79,87,81,80,78,88,95,80,75,88,71,75,99,87,83,72,87,84,71,94,81,80,70,85,96,84,72,85,77,85,82,98,77,91,75,86,85,90,80,89,89,95,84,79,71,75,99,94,79,97,75,71,75,74,86,89,99,86,78,81,94,91,97,87,97,89,71,84,80,82,70,96,92,71,76,81,84,84,73,74,85,76,78,87,77,71,71,91,94,86,79,87,98,70,72,74,74,71,96,81,90,82,93,74,83,76,73,94,71,95,87,95,73,80,79,73,84,95,82,83,78,73,80,70,85,93,90,77,91,75,89,82,91,79,79,95,77,90,80,72,71,75,99,99,73,97,84,98,93,92,80,95,89,95,95,73,72,97,86,80,97,87,84,81,71,89,87,93,84,79,71,80,82,80,76,92,93,98,81,84,72,74,94,92,86,99,95,84,82,83,87,82,94,99,88,96,98,96,87,97,89,89,94,90,76,77,83,70,83,70,86,99,73,91,88,94,72,85,97,99,77,78,74,92,78,94,70,86,98,70,94,98,72,77,93,70,87,92,99,89,86,73,73,81,90,73,81,93,83,71,70,77,87,74,94,91,88,71,84,77,86,96,99,85,79,74,87,76,85,99,73,89,97,88,97,99,88,84,91,70,97,97,81,94,86,73,77,95,92,95,74,84,92,93,84,74,74],\"y0\":\" \",\"yaxis\":\"y\",\"type\":\"box\"}],                        {\"template\":{\"data\":{\"histogram2dcontour\":[{\"type\":\"histogram2dcontour\",\"colorbar\":{\"outlinewidth\":0,\"ticks\":\"\"},\"colorscale\":[[0.0,\"#0d0887\"],[0.1111111111111111,\"#46039f\"],[0.2222222222222222,\"#7201a8\"],[0.3333333333333333,\"#9c179e\"],[0.4444444444444444,\"#bd3786\"],[0.5555555555555556,\"#d8576b\"],[0.6666666666666666,\"#ed7953\"],[0.7777777777777778,\"#fb9f3a\"],[0.8888888888888888,\"#fdca26\"],[1.0,\"#f0f921\"]]}],\"choropleth\":[{\"type\":\"choropleth\",\"colorbar\":{\"outlinewidth\":0,\"ticks\":\"\"}}],\"histogram2d\":[{\"type\":\"histogram2d\",\"colorbar\":{\"outlinewidth\":0,\"ticks\":\"\"},\"colorscale\":[[0.0,\"#0d0887\"],[0.1111111111111111,\"#46039f\"],[0.2222222222222222,\"#7201a8\"],[0.3333333333333333,\"#9c179e\"],[0.4444444444444444,\"#bd3786\"],[0.5555555555555556,\"#d8576b\"],[0.6666666666666666,\"#ed7953\"],[0.7777777777777778,\"#fb9f3a\"],[0.8888888888888888,\"#fdca26\"],[1.0,\"#f0f921\"]]}],\"heatmap\":[{\"type\":\"heatmap\",\"colorbar\":{\"outlinewidth\":0,\"ticks\":\"\"},\"colorscale\":[[0.0,\"#0d0887\"],[0.1111111111111111,\"#46039f\"],[0.2222222222222222,\"#7201a8\"],[0.3333333333333333,\"#9c179e\"],[0.4444444444444444,\"#bd3786\"],[0.5555555555555556,\"#d8576b\"],[0.6666666666666666,\"#ed7953\"],[0.7777777777777778,\"#fb9f3a\"],[0.8888888888888888,\"#fdca26\"],[1.0,\"#f0f921\"]]}],\"heatmapgl\":[{\"type\":\"heatmapgl\",\"colorbar\":{\"outlinewidth\":0,\"ticks\":\"\"},\"colorscale\":[[0.0,\"#0d0887\"],[0.1111111111111111,\"#46039f\"],[0.2222222222222222,\"#7201a8\"],[0.3333333333333333,\"#9c179e\"],[0.4444444444444444,\"#bd3786\"],[0.5555555555555556,\"#d8576b\"],[0.6666666666666666,\"#ed7953\"],[0.7777777777777778,\"#fb9f3a\"],[0.8888888888888888,\"#fdca26\"],[1.0,\"#f0f921\"]]}],\"contourcarpet\":[{\"type\":\"contourcarpet\",\"colorbar\":{\"outlinewidth\":0,\"ticks\":\"\"}}],\"contour\":[{\"type\":\"contour\",\"colorbar\":{\"outlinewidth\":0,\"ticks\":\"\"},\"colorscale\":[[0.0,\"#0d0887\"],[0.1111111111111111,\"#46039f\"],[0.2222222222222222,\"#7201a8\"],[0.3333333333333333,\"#9c179e\"],[0.4444444444444444,\"#bd3786\"],[0.5555555555555556,\"#d8576b\"],[0.6666666666666666,\"#ed7953\"],[0.7777777777777778,\"#fb9f3a\"],[0.8888888888888888,\"#fdca26\"],[1.0,\"#f0f921\"]]}],\"surface\":[{\"type\":\"surface\",\"colorbar\":{\"outlinewidth\":0,\"ticks\":\"\"},\"colorscale\":[[0.0,\"#0d0887\"],[0.1111111111111111,\"#46039f\"],[0.2222222222222222,\"#7201a8\"],[0.3333333333333333,\"#9c179e\"],[0.4444444444444444,\"#bd3786\"],[0.5555555555555556,\"#d8576b\"],[0.6666666666666666,\"#ed7953\"],[0.7777777777777778,\"#fb9f3a\"],[0.8888888888888888,\"#fdca26\"],[1.0,\"#f0f921\"]]}],\"mesh3d\":[{\"type\":\"mesh3d\",\"colorbar\":{\"outlinewidth\":0,\"ticks\":\"\"}}],\"scatter\":[{\"fillpattern\":{\"fillmode\":\"overlay\",\"size\":10,\"solidity\":0.2},\"type\":\"scatter\"}],\"parcoords\":[{\"type\":\"parcoords\",\"line\":{\"colorbar\":{\"outlinewidth\":0,\"ticks\":\"\"}}}],\"scatterpolargl\":[{\"type\":\"scatterpolargl\",\"marker\":{\"colorbar\":{\"outlinewidth\":0,\"ticks\":\"\"}}}],\"bar\":[{\"error_x\":{\"color\":\"#2a3f5f\"},\"error_y\":{\"color\":\"#2a3f5f\"},\"marker\":{\"line\":{\"color\":\"#E5ECF6\",\"width\":0.5},\"pattern\":{\"fillmode\":\"overlay\",\"size\":10,\"solidity\":0.2}},\"type\":\"bar\"}],\"scattergeo\":[{\"type\":\"scattergeo\",\"marker\":{\"colorbar\":{\"outlinewidth\":0,\"ticks\":\"\"}}}],\"scatterpolar\":[{\"type\":\"scatterpolar\",\"marker\":{\"colorbar\":{\"outlinewidth\":0,\"ticks\":\"\"}}}],\"histogram\":[{\"marker\":{\"pattern\":{\"fillmode\":\"overlay\",\"size\":10,\"solidity\":0.2}},\"type\":\"histogram\"}],\"scattergl\":[{\"type\":\"scattergl\",\"marker\":{\"colorbar\":{\"outlinewidth\":0,\"ticks\":\"\"}}}],\"scatter3d\":[{\"type\":\"scatter3d\",\"line\":{\"colorbar\":{\"outlinewidth\":0,\"ticks\":\"\"}},\"marker\":{\"colorbar\":{\"outlinewidth\":0,\"ticks\":\"\"}}}],\"scattermapbox\":[{\"type\":\"scattermapbox\",\"marker\":{\"colorbar\":{\"outlinewidth\":0,\"ticks\":\"\"}}}],\"scatterternary\":[{\"type\":\"scatterternary\",\"marker\":{\"colorbar\":{\"outlinewidth\":0,\"ticks\":\"\"}}}],\"scattercarpet\":[{\"type\":\"scattercarpet\",\"marker\":{\"colorbar\":{\"outlinewidth\":0,\"ticks\":\"\"}}}],\"carpet\":[{\"aaxis\":{\"endlinecolor\":\"#2a3f5f\",\"gridcolor\":\"white\",\"linecolor\":\"white\",\"minorgridcolor\":\"white\",\"startlinecolor\":\"#2a3f5f\"},\"baxis\":{\"endlinecolor\":\"#2a3f5f\",\"gridcolor\":\"white\",\"linecolor\":\"white\",\"minorgridcolor\":\"white\",\"startlinecolor\":\"#2a3f5f\"},\"type\":\"carpet\"}],\"table\":[{\"cells\":{\"fill\":{\"color\":\"#EBF0F8\"},\"line\":{\"color\":\"white\"}},\"header\":{\"fill\":{\"color\":\"#C8D4E3\"},\"line\":{\"color\":\"white\"}},\"type\":\"table\"}],\"barpolar\":[{\"marker\":{\"line\":{\"color\":\"#E5ECF6\",\"width\":0.5},\"pattern\":{\"fillmode\":\"overlay\",\"size\":10,\"solidity\":0.2}},\"type\":\"barpolar\"}],\"pie\":[{\"automargin\":true,\"type\":\"pie\"}]},\"layout\":{\"autotypenumbers\":\"strict\",\"colorway\":[\"#636efa\",\"#EF553B\",\"#00cc96\",\"#ab63fa\",\"#FFA15A\",\"#19d3f3\",\"#FF6692\",\"#B6E880\",\"#FF97FF\",\"#FECB52\"],\"font\":{\"color\":\"#2a3f5f\"},\"hovermode\":\"closest\",\"hoverlabel\":{\"align\":\"left\"},\"paper_bgcolor\":\"white\",\"plot_bgcolor\":\"#E5ECF6\",\"polar\":{\"bgcolor\":\"#E5ECF6\",\"angularaxis\":{\"gridcolor\":\"white\",\"linecolor\":\"white\",\"ticks\":\"\"},\"radialaxis\":{\"gridcolor\":\"white\",\"linecolor\":\"white\",\"ticks\":\"\"}},\"ternary\":{\"bgcolor\":\"#E5ECF6\",\"aaxis\":{\"gridcolor\":\"white\",\"linecolor\":\"white\",\"ticks\":\"\"},\"baxis\":{\"gridcolor\":\"white\",\"linecolor\":\"white\",\"ticks\":\"\"},\"caxis\":{\"gridcolor\":\"white\",\"linecolor\":\"white\",\"ticks\":\"\"}},\"coloraxis\":{\"colorbar\":{\"outlinewidth\":0,\"ticks\":\"\"}},\"colorscale\":{\"sequential\":[[0.0,\"#0d0887\"],[0.1111111111111111,\"#46039f\"],[0.2222222222222222,\"#7201a8\"],[0.3333333333333333,\"#9c179e\"],[0.4444444444444444,\"#bd3786\"],[0.5555555555555556,\"#d8576b\"],[0.6666666666666666,\"#ed7953\"],[0.7777777777777778,\"#fb9f3a\"],[0.8888888888888888,\"#fdca26\"],[1.0,\"#f0f921\"]],\"sequentialminus\":[[0.0,\"#0d0887\"],[0.1111111111111111,\"#46039f\"],[0.2222222222222222,\"#7201a8\"],[0.3333333333333333,\"#9c179e\"],[0.4444444444444444,\"#bd3786\"],[0.5555555555555556,\"#d8576b\"],[0.6666666666666666,\"#ed7953\"],[0.7777777777777778,\"#fb9f3a\"],[0.8888888888888888,\"#fdca26\"],[1.0,\"#f0f921\"]],\"diverging\":[[0,\"#8e0152\"],[0.1,\"#c51b7d\"],[0.2,\"#de77ae\"],[0.3,\"#f1b6da\"],[0.4,\"#fde0ef\"],[0.5,\"#f7f7f7\"],[0.6,\"#e6f5d0\"],[0.7,\"#b8e186\"],[0.8,\"#7fbc41\"],[0.9,\"#4d9221\"],[1,\"#276419\"]]},\"xaxis\":{\"gridcolor\":\"white\",\"linecolor\":\"white\",\"ticks\":\"\",\"title\":{\"standoff\":15},\"zerolinecolor\":\"white\",\"automargin\":true,\"zerolinewidth\":2},\"yaxis\":{\"gridcolor\":\"white\",\"linecolor\":\"white\",\"ticks\":\"\",\"title\":{\"standoff\":15},\"zerolinecolor\":\"white\",\"automargin\":true,\"zerolinewidth\":2},\"scene\":{\"xaxis\":{\"backgroundcolor\":\"#E5ECF6\",\"gridcolor\":\"white\",\"linecolor\":\"white\",\"showbackground\":true,\"ticks\":\"\",\"zerolinecolor\":\"white\",\"gridwidth\":2},\"yaxis\":{\"backgroundcolor\":\"#E5ECF6\",\"gridcolor\":\"white\",\"linecolor\":\"white\",\"showbackground\":true,\"ticks\":\"\",\"zerolinecolor\":\"white\",\"gridwidth\":2},\"zaxis\":{\"backgroundcolor\":\"#E5ECF6\",\"gridcolor\":\"white\",\"linecolor\":\"white\",\"showbackground\":true,\"ticks\":\"\",\"zerolinecolor\":\"white\",\"gridwidth\":2}},\"shapedefaults\":{\"line\":{\"color\":\"#2a3f5f\"}},\"annotationdefaults\":{\"arrowcolor\":\"#2a3f5f\",\"arrowhead\":0,\"arrowwidth\":1},\"geo\":{\"bgcolor\":\"white\",\"landcolor\":\"#E5ECF6\",\"subunitcolor\":\"white\",\"showland\":true,\"showlakes\":true,\"lakecolor\":\"white\"},\"title\":{\"x\":0.05},\"mapbox\":{\"style\":\"light\"}}},\"xaxis\":{\"anchor\":\"y\",\"domain\":[0.0,1.0],\"title\":{\"text\":\"category_after_score\"}},\"yaxis\":{\"anchor\":\"x\",\"domain\":[0.0,1.0],\"title\":{\"text\":\"after_score\"}},\"legend\":{\"tracegroupgap\":0},\"margin\":{\"t\":60},\"boxmode\":\"group\"},                        {\"responsive\": true}                    ).then(function(){\n",
       "                            \n",
       "var gd = document.getElementById('ab8c825c-c765-4545-a0ed-0fa5917933c9');\n",
       "var x = new MutationObserver(function (mutations, observer) {{\n",
       "        var display = window.getComputedStyle(gd).display;\n",
       "        if (!display || display === 'none') {{\n",
       "            console.log([gd, 'removed!']);\n",
       "            Plotly.purge(gd);\n",
       "            observer.disconnect();\n",
       "        }}\n",
       "}});\n",
       "\n",
       "// Listen for the removal of the full notebook cells\n",
       "var notebookContainer = gd.closest('#notebook-container');\n",
       "if (notebookContainer) {{\n",
       "    x.observe(notebookContainer, {childList: true});\n",
       "}}\n",
       "\n",
       "// Listen for the clearing of the current output cell\n",
       "var outputEl = gd.closest('.output');\n",
       "if (outputEl) {{\n",
       "    x.observe(outputEl, {childList: true});\n",
       "}}\n",
       "\n",
       "                        })                };                });            </script>        </div>"
      ]
     },
     "metadata": {},
     "output_type": "display_data"
    }
   ],
   "source": [
    "import plotly.express as px\n",
    "df = px.data.tips()\n",
    "fig = px.box(data_fin, x=\"category_after_score\", y=\"after_score\")\n",
    "fig.show()"
   ]
  },
  {
   "cell_type": "markdown",
   "id": "a8eb9816",
   "metadata": {},
   "source": [
    "#### С помощью сводной таблицы посмотрим на влияние/отсутствие влияния обучения на курсах на результат проведенных испытаний "
   ]
  },
  {
   "cell_type": "code",
   "execution_count": 22,
   "id": "9e68c38f",
   "metadata": {},
   "outputs": [
    {
     "data": {
      "text/html": [
       "<div>\n",
       "<style scoped>\n",
       "    .dataframe tbody tr th:only-of-type {\n",
       "        vertical-align: middle;\n",
       "    }\n",
       "\n",
       "    .dataframe tbody tr th {\n",
       "        vertical-align: top;\n",
       "    }\n",
       "\n",
       "    .dataframe thead th {\n",
       "        text-align: right;\n",
       "    }\n",
       "</style>\n",
       "<table border=\"1\" class=\"dataframe\">\n",
       "  <thead>\n",
       "    <tr style=\"text-align: right;\">\n",
       "      <th></th>\n",
       "      <th>no_course</th>\n",
       "      <th>course</th>\n",
       "      <th>share_of_cat</th>\n",
       "    </tr>\n",
       "    <tr>\n",
       "      <th>category_after_score</th>\n",
       "      <th></th>\n",
       "      <th></th>\n",
       "      <th></th>\n",
       "    </tr>\n",
       "  </thead>\n",
       "  <tbody>\n",
       "    <tr>\n",
       "      <th>A</th>\n",
       "      <td>387</td>\n",
       "      <td>412</td>\n",
       "      <td>51.6%</td>\n",
       "    </tr>\n",
       "    <tr>\n",
       "      <th>B</th>\n",
       "      <td>101</td>\n",
       "      <td>100</td>\n",
       "      <td>49.8%</td>\n",
       "    </tr>\n",
       "  </tbody>\n",
       "</table>\n",
       "</div>"
      ],
      "text/plain": [
       "                      no_course  course share_of_cat\n",
       "category_after_score                                \n",
       "A                           387     412        51.6%\n",
       "B                           101     100        49.8%"
      ]
     },
     "execution_count": 22,
     "metadata": {},
     "output_type": "execute_result"
    }
   ],
   "source": [
    "# Создаем таблицу методом pivot()\n",
    "group_total = data_fin.pivot_table(index='category_after_score', columns='group', values='student_id', aggfunc='count')\n",
    "# Создаем столбцы\n",
    "group_total.columns = ['no_course', 'course']\n",
    "# Считаем долю студентов прошедших и непрошедших обучение по категориям\n",
    "group_total['share_of_cat'] = group_total['course'] / (group_total['course'] + group_total['no_course'])\n",
    "# Переводим значения в столбце доля дожников в проценты\n",
    "group_total['share_of_cat'] = group_total['share_of_cat'].map('{:.1%}'.format)\n",
    "# Сортируем по столбцу долястудентов по убыванию\n",
    "group_total.sort_values(by='share_of_cat', ascending=False)"
   ]
  },
  {
   "cell_type": "markdown",
   "id": "48c0531d",
   "metadata": {},
   "source": [
    "## ВЫВОДЫ.\n",
    "Как мы видим, после проведенного обучения количество высоких оценок (категория А) выросло на 25 и составляет более половины всех студентов, оценки самых низких категорий С и D после проведенного обучения отсутствуют. Однако, из приведенных графиков можно заметить, что медианное значение самой высокой категории оценок у студентов, прошедших обучение, несколько ниже, чем у студентов, необучавшихся на курсах, хотя общее количество в данном сегменте возросло. "
   ]
  }
 ],
 "metadata": {
  "kernelspec": {
   "display_name": "Python 3 (ipykernel)",
   "language": "python",
   "name": "python3"
  },
  "language_info": {
   "codemirror_mode": {
    "name": "ipython",
    "version": 3
   },
   "file_extension": ".py",
   "mimetype": "text/x-python",
   "name": "python",
   "nbconvert_exporter": "python",
   "pygments_lexer": "ipython3",
   "version": "3.11.4"
  }
 },
 "nbformat": 4,
 "nbformat_minor": 5
}
